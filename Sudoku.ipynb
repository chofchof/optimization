{
 "cells": [
  {
   "cell_type": "code",
   "execution_count": 1,
   "id": "6b5fd5a1",
   "metadata": {},
   "outputs": [],
   "source": [
    "import numpy as np\n",
    "import pandas as pd"
   ]
  },
  {
   "cell_type": "markdown",
   "id": "49edc8b3",
   "metadata": {},
   "source": [
    "# Sudoku Solver"
   ]
  },
  {
   "cell_type": "code",
   "execution_count": 2,
   "id": "24ffdadf",
   "metadata": {},
   "outputs": [],
   "source": [
    "cell_size = 3\n",
    "line_size = cell_size**2\n",
    "line = list(range(0, line_size))\n",
    "cell = list(range(0, cell_size))\n",
    "\n",
    "initial_grid = pd.DataFrame(data=[\n",
    "    [0, 6, 0, 0, 5, 0, 0, 2, 0],\n",
    "    [0, 0, 0, 3, 0, 0, 0, 9, 0],\n",
    "    [7, 0, 0, 6, 0, 0, 0, 1, 0],\n",
    "    [0, 0, 6, 0, 3, 0, 4, 0, 0],\n",
    "    [0, 0, 4, 0, 7, 0, 1, 0, 0],\n",
    "    [0, 0, 5, 0, 9, 0, 8, 0, 0],\n",
    "    [0, 4, 0, 0, 0, 1, 0, 0, 6],\n",
    "    [0, 3, 0, 0, 0, 8, 0, 0, 0],\n",
    "    [0, 2, 0, 0, 4, 0, 0, 5, 0]\n",
    "])"
   ]
  },
  {
   "cell_type": "markdown",
   "id": "b8a9cc23",
   "metadata": {},
   "source": [
    "### A. CP-SAT solution (OR-Tools) with integer variables\n",
    "\n",
    "**Source from** https://github.com/google/or-tools/blob/stable/examples/python/sudoku_sat.py\n",
    "\n",
    "It is possible to use **integer variables** since CP-SAT supports the `AddAllDifferent()` method."
   ]
  },
  {
   "cell_type": "code",
   "execution_count": 3,
   "id": "36a6115f",
   "metadata": {},
   "outputs": [],
   "source": [
    "from ortools.sat.python import cp_model\n",
    "\n",
    "# Create the model.\n",
    "model = cp_model.CpModel()"
   ]
  },
  {
   "cell_type": "code",
   "execution_count": 4,
   "id": "cb0d492c",
   "metadata": {},
   "outputs": [],
   "source": [
    "# Variables\n",
    "grid = {}\n",
    "for i in line:\n",
    "    for j in line:\n",
    "        grid[i, j] = model.NewIntVar(1, line_size, f\"grid[{i},{j}]\")"
   ]
  },
  {
   "cell_type": "code",
   "execution_count": 5,
   "id": "a67e0c45",
   "metadata": {},
   "outputs": [],
   "source": [
    "# Constraints\n",
    "for i in line:\n",
    "    # AllDifferent on rows.\n",
    "    model.AddAllDifferent(grid[i, j] for j in line)\n",
    "    # AllDifferent on columns.\n",
    "    model.AddAllDifferent(grid[j, i] for j in line)\n",
    "\n",
    "# AllDifferent on cells.\n",
    "for i in cell:\n",
    "    for j in cell:\n",
    "        model.AddAllDifferent(\n",
    "            grid[i * cell_size + di, j * cell_size + dj] \\\n",
    "                for di in cell for dj in cell\n",
    "        )\n",
    "\n",
    "# Initial values.\n",
    "for i in line:\n",
    "    for j in line:\n",
    "        value = initial_grid.loc[i, j]\n",
    "        if value:\n",
    "            model.Add(grid[i, j] == value)"
   ]
  },
  {
   "cell_type": "code",
   "execution_count": 6,
   "id": "0a94c9e4",
   "metadata": {},
   "outputs": [
    {
     "name": "stdout",
     "output_type": "stream",
     "text": [
      "CPU times: user 5.11 ms, sys: 1.54 ms, total: 6.65 ms\n",
      "Wall time: 5 ms\n"
     ]
    }
   ],
   "source": [
    "# Solve\n",
    "solver = cp_model.CpSolver()\n",
    "%time status = solver.Solve(model)"
   ]
  },
  {
   "cell_type": "code",
   "execution_count": 7,
   "id": "f1d1cfeb",
   "metadata": {},
   "outputs": [
    {
     "name": "stdout",
     "output_type": "stream",
     "text": [
      "[8, 6, 1, 4, 5, 9, 7, 2, 3]\n",
      "[4, 5, 2, 3, 1, 7, 6, 9, 8]\n",
      "[7, 9, 3, 6, 8, 2, 5, 1, 4]\n",
      "[2, 1, 6, 8, 3, 5, 4, 7, 9]\n",
      "[9, 8, 4, 2, 7, 6, 1, 3, 5]\n",
      "[3, 7, 5, 1, 9, 4, 8, 6, 2]\n",
      "[5, 4, 7, 9, 2, 1, 3, 8, 6]\n",
      "[1, 3, 9, 5, 6, 8, 2, 4, 7]\n",
      "[6, 2, 8, 7, 4, 3, 9, 5, 1]\n"
     ]
    }
   ],
   "source": [
    "# Print out the solution.\n",
    "if status == cp_model.OPTIMAL:\n",
    "    for i in line:\n",
    "        print([int(solver.Value(grid[i, j])) for j in line])\n",
    "else:\n",
    "    print('No solution.')"
   ]
  },
  {
   "cell_type": "markdown",
   "id": "934b4d9f-6517-4c14-9f52-2c999d7cac28",
   "metadata": {},
   "source": [
    "### B. CP-SAT solution (OR-Tools) with boolean variables\n",
    "\n",
    "The CP-SAT solution with boolean variables is slower than the one with integer variables."
   ]
  },
  {
   "cell_type": "code",
   "execution_count": 8,
   "id": "c88989bc-4ae5-4f1c-988b-b96fd52948d6",
   "metadata": {},
   "outputs": [],
   "source": [
    "from ortools.sat.python import cp_model\n",
    "\n",
    "# Create the model.\n",
    "model = cp_model.CpModel()"
   ]
  },
  {
   "cell_type": "code",
   "execution_count": 9,
   "id": "1f3a70fe-a4f4-4835-88c3-b27dd454ea87",
   "metadata": {},
   "outputs": [],
   "source": [
    "# Variables\n",
    "grid = {}\n",
    "for i in line:\n",
    "    for j in line:\n",
    "        for k in line:\n",
    "            grid[i, j, k] = model.NewBoolVar(f\"grid[{i},{j},{k}]\")"
   ]
  },
  {
   "cell_type": "code",
   "execution_count": 10,
   "id": "6b2943fa-d1ff-4691-94f1-51cfc54e5e6d",
   "metadata": {},
   "outputs": [],
   "source": [
    "# Constraints\n",
    "for i in line:\n",
    "    for j in line:\n",
    "        # AllDifferent on rows.\n",
    "        model.Add(sum(grid[i, k, j] for k in line) == 1)\n",
    "        # AllDifferent on columns.\n",
    "        model.Add(sum(grid[k, i, j] for k in line) == 1)\n",
    "        # Only one value in each grid.\n",
    "        model.Add(sum(grid[i, j, k] for k in line) == 1)\n",
    "\n",
    "# AllDifferent on cells.\n",
    "for i in cell:\n",
    "    for j in cell:\n",
    "        for k in line:\n",
    "            model.Add(\n",
    "                sum(grid[i * cell_size + di, j * cell_size + dj, k] \\\n",
    "                    for di in cell for dj in cell) == 1\n",
    "            )\n",
    "\n",
    "# Initial values.\n",
    "for i in line:\n",
    "    for j in line:\n",
    "        value = initial_grid.loc[i, j]\n",
    "        if value:\n",
    "            model.Add(grid[i, j, value - 1] == 1)"
   ]
  },
  {
   "cell_type": "code",
   "execution_count": 11,
   "id": "1899d89b-47bf-4da3-88d7-de398484fdff",
   "metadata": {},
   "outputs": [
    {
     "name": "stdout",
     "output_type": "stream",
     "text": [
      "CPU times: user 12.9 ms, sys: 1.77 ms, total: 14.7 ms\n",
      "Wall time: 12.1 ms\n"
     ]
    }
   ],
   "source": [
    "# Solve\n",
    "solver = cp_model.CpSolver()\n",
    "%time status = solver.Solve(model)"
   ]
  },
  {
   "cell_type": "code",
   "execution_count": 12,
   "id": "7f8e067a-1ec9-4a17-9b53-cde6f3f64379",
   "metadata": {},
   "outputs": [
    {
     "name": "stdout",
     "output_type": "stream",
     "text": [
      "[8, 6, 1, 4, 5, 9, 7, 2, 3]\n",
      "[4, 5, 2, 3, 1, 7, 6, 9, 8]\n",
      "[7, 9, 3, 6, 8, 2, 5, 1, 4]\n",
      "[2, 1, 6, 8, 3, 5, 4, 7, 9]\n",
      "[9, 8, 4, 2, 7, 6, 1, 3, 5]\n",
      "[3, 7, 5, 1, 9, 4, 8, 6, 2]\n",
      "[5, 4, 7, 9, 2, 1, 3, 8, 6]\n",
      "[1, 3, 9, 5, 6, 8, 2, 4, 7]\n",
      "[6, 2, 8, 7, 4, 3, 9, 5, 1]\n"
     ]
    }
   ],
   "source": [
    "def getValue(i, j):\n",
    "    return [solver.Value(grid[i, j, k]) for k in line].index(1) + 1\n",
    "\n",
    "# Print out the solution.\n",
    "if status == cp_model.OPTIMAL:\n",
    "    for i in line:\n",
    "        print([getValue(i, j) for j in line])\n",
    "else:\n",
    "    print('No solution.')"
   ]
  },
  {
   "cell_type": "markdown",
   "id": "79071445",
   "metadata": {},
   "source": [
    "### C. MIP solution (OR-Tools + SCIP) with boolean variables\n",
    "\n",
    "The MIP solution with boolean variables is faster than the CP-SAT solution with boolean variables."
   ]
  },
  {
   "cell_type": "code",
   "execution_count": 13,
   "id": "56ba6dcb",
   "metadata": {},
   "outputs": [],
   "source": [
    "from ortools.linear_solver import pywraplp\n",
    "\n",
    "# Create the mip solver with the SCIP backend.\n",
    "solver = pywraplp.Solver.CreateSolver('SCIP')"
   ]
  },
  {
   "cell_type": "code",
   "execution_count": 14,
   "id": "dd5d8c41",
   "metadata": {},
   "outputs": [],
   "source": [
    "# Variables\n",
    "grid = {}\n",
    "for i in line:\n",
    "    for j in line:\n",
    "        for k in line:\n",
    "            grid[i, j, k] = solver.BoolVar(f\"grid[{i},{j},{k}]\")"
   ]
  },
  {
   "cell_type": "code",
   "execution_count": 15,
   "id": "68a1b16c",
   "metadata": {},
   "outputs": [],
   "source": [
    "# Constraints\n",
    "for i in line:\n",
    "    for j in line:\n",
    "        # AllDifferent on rows.\n",
    "        solver.Add(solver.Sum(grid[i, k, j] for k in line) == 1)\n",
    "        # AllDifferent on columns.\n",
    "        solver.Add(solver.Sum(grid[k, i, j] for k in line) == 1)\n",
    "        # Only one value in each grid.\n",
    "        solver.Add(solver.Sum(grid[i, j, k] for k in line) == 1)\n",
    "\n",
    "# AllDifferent on cells.\n",
    "for i in cell:\n",
    "    for j in cell:\n",
    "        for k in line:\n",
    "            solver.Add(\n",
    "                solver.Sum(grid[i * cell_size + di, j * cell_size + dj, k] \\\n",
    "                    for di in cell for dj in cell) == 1\n",
    "            )\n",
    "\n",
    "# Initial values.\n",
    "for i in line:\n",
    "    for j in line:\n",
    "        value = initial_grid.loc[i, j]\n",
    "        if value:\n",
    "            solver.Add(grid[i, j, value - 1] == 1)"
   ]
  },
  {
   "cell_type": "code",
   "execution_count": 16,
   "id": "b7a83a4b",
   "metadata": {},
   "outputs": [
    {
     "name": "stdout",
     "output_type": "stream",
     "text": [
      "CPU times: user 6.24 ms, sys: 956 µs, total: 7.2 ms\n",
      "Wall time: 7.16 ms\n"
     ]
    }
   ],
   "source": [
    "# Solve\n",
    "%time status = solver.Solve()"
   ]
  },
  {
   "cell_type": "code",
   "execution_count": 17,
   "id": "19397c5b",
   "metadata": {},
   "outputs": [
    {
     "name": "stdout",
     "output_type": "stream",
     "text": [
      "[8, 6, 1, 4, 5, 9, 7, 2, 3]\n",
      "[4, 5, 2, 3, 1, 7, 6, 9, 8]\n",
      "[7, 9, 3, 6, 8, 2, 5, 1, 4]\n",
      "[2, 1, 6, 8, 3, 5, 4, 7, 9]\n",
      "[9, 8, 4, 2, 7, 6, 1, 3, 5]\n",
      "[3, 7, 5, 1, 9, 4, 8, 6, 2]\n",
      "[5, 4, 7, 9, 2, 1, 3, 8, 6]\n",
      "[1, 3, 9, 5, 6, 8, 2, 4, 7]\n",
      "[6, 2, 8, 7, 4, 3, 9, 5, 1]\n"
     ]
    }
   ],
   "source": [
    "def getValue(i, j):\n",
    "    return [grid[i, j, k].solution_value() for k in line].index(1) + 1\n",
    "\n",
    "# Print out the solution.\n",
    "if status == pywraplp.Solver.OPTIMAL:\n",
    "    for i in line:\n",
    "        print([getValue(i, j) for j in line])\n",
    "else:\n",
    "    print('No solution.')"
   ]
  },
  {
   "cell_type": "markdown",
   "id": "3827135e-04d3-4c56-9925-16163c227d9d",
   "metadata": {},
   "source": [
    "### D. MIP solution (PySCIPOpt) with boolean variables\n",
    "\n",
    "PySCIPOpt is faster than OR-Tools + SCIP."
   ]
  },
  {
   "cell_type": "code",
   "execution_count": 18,
   "id": "6add9c5d-e5de-490c-990d-9c3b8ab49929",
   "metadata": {},
   "outputs": [],
   "source": [
    "from pyscipopt import Model\n",
    "\n",
    "# Create the model.\n",
    "model = Model(\"Sudoku\")"
   ]
  },
  {
   "cell_type": "code",
   "execution_count": 19,
   "id": "96f8d799-a9fe-4c76-b2d9-4bb32338664d",
   "metadata": {},
   "outputs": [],
   "source": [
    "# Variables\n",
    "grid = {}\n",
    "for i in line:\n",
    "    for j in line:\n",
    "        for k in line:\n",
    "            grid[i, j, k] = model.addVar(vtype='B', name=f\"grid[{i},{j},{k}]\")"
   ]
  },
  {
   "cell_type": "code",
   "execution_count": 20,
   "id": "2a66b858-431f-403c-a57b-9512c67f7889",
   "metadata": {},
   "outputs": [],
   "source": [
    "# Constraints\n",
    "for i in line:\n",
    "    for j in line:\n",
    "        # AllDifferent on rows.\n",
    "        model.addCons(sum(grid[i, k, j] for k in line) == 1)\n",
    "        # AllDifferent on columns.\n",
    "        model.addCons(sum(grid[k, i, j] for k in line) == 1)\n",
    "        # Only one value in each grid.\n",
    "        model.addCons(sum(grid[i, j, k] for k in line) == 1)\n",
    "\n",
    "# AllDifferent on cells.\n",
    "for i in cell:\n",
    "    for j in cell:\n",
    "        for k in line:\n",
    "            model.addCons(\n",
    "                sum(grid[i * cell_size + di, j * cell_size + dj, k] \\\n",
    "                    for di in cell for dj in cell) == 1\n",
    "            )\n",
    "\n",
    "# Initial values.\n",
    "for i in line:\n",
    "    for j in line:\n",
    "        value = initial_grid.loc[i, j]\n",
    "        if value:\n",
    "            model.addCons(grid[i, j, value - 1] == 1)"
   ]
  },
  {
   "cell_type": "code",
   "execution_count": 21,
   "id": "a994d53e-3f5b-4439-8914-b6fc3396a7e3",
   "metadata": {},
   "outputs": [
    {
     "name": "stdout",
     "output_type": "stream",
     "text": [
      "CPU times: user 6.01 ms, sys: 897 µs, total: 6.9 ms\n",
      "Wall time: 6.84 ms\n"
     ]
    }
   ],
   "source": [
    "# Solve\n",
    "%time model.optimize()"
   ]
  },
  {
   "cell_type": "code",
   "execution_count": 22,
   "id": "2229122a-6f19-4838-bd0c-78b79dcfaa75",
   "metadata": {},
   "outputs": [
    {
     "name": "stdout",
     "output_type": "stream",
     "text": [
      "[8, 6, 1, 4, 5, 9, 7, 2, 3]\n",
      "[4, 5, 2, 3, 1, 7, 6, 9, 8]\n",
      "[7, 9, 3, 6, 8, 2, 5, 1, 4]\n",
      "[2, 1, 6, 8, 3, 5, 4, 7, 9]\n",
      "[9, 8, 4, 2, 7, 6, 1, 3, 5]\n",
      "[3, 7, 5, 1, 9, 4, 8, 6, 2]\n",
      "[5, 4, 7, 9, 2, 1, 3, 8, 6]\n",
      "[1, 3, 9, 5, 6, 8, 2, 4, 7]\n",
      "[6, 2, 8, 7, 4, 3, 9, 5, 1]\n"
     ]
    }
   ],
   "source": [
    "def getValue(i, j):\n",
    "    return [model.getVal(grid[i, j, k]) for k in line].index(1) + 1\n",
    "\n",
    "# Print out the solution.\n",
    "if model.getStatus() == 'optimal':\n",
    "    for i in line:\n",
    "        print([getValue(i, j) for j in line])\n",
    "else:\n",
    "    print('No solution.')"
   ]
  }
 ],
 "metadata": {
  "kernelspec": {
   "display_name": "Python 3",
   "language": "python",
   "name": "python3"
  },
  "language_info": {
   "codemirror_mode": {
    "name": "ipython",
    "version": 3
   },
   "file_extension": ".py",
   "mimetype": "text/x-python",
   "name": "python",
   "nbconvert_exporter": "python",
   "pygments_lexer": "ipython3",
   "version": "3.8.8"
  }
 },
 "nbformat": 4,
 "nbformat_minor": 5
}
